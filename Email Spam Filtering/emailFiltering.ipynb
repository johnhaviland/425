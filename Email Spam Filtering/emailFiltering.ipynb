{
 "cells": [
  {
   "cell_type": "markdown",
   "metadata": {},
   "source": [
    "# Email Filtering\n",
    "\n",
    "by John Haviland and Nathan Dilla\n",
    "\n",
    "CST-425: Very Large Information Systems\n",
    "\n",
    "\n",
    "Nathan's video: https://www.loom.com/share/449e8f0e49974518bb3128c0955a790c\n",
    "\n",
    "John's video: https://www.loom.com/share/cf59b73069db4cfa808b0fa790eb35d4?sid=a5c5a6a6-7a72-43b3-abfd-456a75e6899f"
   ]
  },
  {
   "cell_type": "markdown",
   "metadata": {},
   "source": [
    "### Problem Statement\n",
    "\n",
    "In the era of digital communication, email remains a crucial mode of correspondence. However, the incessant influx of spam emails poses a significant challenge to email users, clogging inboxes, and potentially leading to missed important messages. To address this issue effectively, there is a need to develop a robust spam email filtering system using the Naive Bayesian classification machine learning algorithm.\n",
    "\n",
    "The goal of this project is to design and implement a spam email filtering system that can accurately classify incoming emails as either spam or legitimate based on their content and characteristics. The system should leverage the Naive Bayesian classification algorithm to analyze the textual and metadata features of emails, making predictions with high precision and recall. This entails addressing the following key components:\n",
    "\n",
    "1. Data Collection: Gather a comprehensive and diverse dataset of emails, comprising both spam and legitimate messages. This dataset should encompass various email clients, sources, and content types to ensure the model's generalization.\n",
    "\n",
    "2. Feature Engineering: Extract relevant features from the emails, including but not limited to sender information, subject lines, message content, header information, and attachments. Preprocess and transform these features to create a suitable input for the Naive Bayesian classifier.\n",
    "\n",
    "3. Model Development: Develop a Naive Bayesian classification model that can learn from the labeled dataset. Utilize the Bayesian probability theory to estimate the probability that an email belongs to the spam class or legitimate class based on the extracted features.\n",
    "\n",
    "4. Training and Evaluation: Split the dataset into training and testing sets to train and evaluate the model's performance. Implement appropriate metrics such as accuracy, precision, recall, and F1-score to assess the model's effectiveness in spam detection.\n",
    "\n",
    "By addressing these components, this project aims to create an efficient and accurate spam email filtering system, leveraging the Naive Bayesian classification algorithm, to enhance email communication by reducing spam-related disruptions and protecting users from potentially harmful content."
   ]
  },
  {
   "cell_type": "markdown",
   "metadata": {},
   "source": [
    "### Algorithm of the Solution\n",
    "\n",
    "The Naive Bayes algorithm is a probabilistic classifier that makes use of Bayes' Theorem, a rule that uses probability theory to update our prior beliefs given new data. Despite its simplicity, Naive Bayes can be surprisingly effective and is particularly good for text classification problems.\n",
    "\n",
    "Here's a step-by-step description of the algorithm:\n",
    "\n",
    "1. **Convert the data to a frequency table**: The first step in training a Naive Bayes classifier is to create a frequency table for each feature relative to the target. This will be used to calculate the probabilities needed for prediction.\n",
    "\n",
    "2. **Calculate the probabilities**: For each feature, calculate the probability of that feature given each class. This is done by dividing the frequency of each feature-class combination by the total frequency of each class. These are the conditional probabilities.\n",
    "\n",
    "3. **Calculate the prior probabilities**: The prior probability of each class is calculated. This is simply the overall frequency of each class in the training set.\n",
    "\n",
    "4. **Make predictions**: For a new instance, the posterior probability for each class is calculated, given the instance's features. This is done by multiplying together the prior probability of the class and the conditional probabilities of each feature given the class. The class with the highest posterior probability is the prediction.\n",
    "\n",
    "5. **Update the model**: As new data comes in, the frequency tables and probabilities can be updated, which allows the model to learn and improve over time.\n",
    "\n",
    "It's important to note that the 'naive' in Naive Bayes comes from the assumption that all features are independent of each other, which is rarely true in real life, but simplifies the calculations and often works well enough in practice.\n",
    "\n",
    "Here's a simple example of how you might implement a Naive Bayes classifier in Python using scikit-learn:\n",
    "\n"
   ]
  },
  {
   "cell_type": "markdown",
   "metadata": {},
   "source": [
    "### Bayesian Classifying Model\n",
    "\n",
    "The Naive Bayes classifier is a probabilistic machine learning model based on Bayes' theorem. It's widely used for various classification tasks, particularly in text classification, spam detection, and sentiment analysis. The \"naive\" part of its name comes from the assumption that features used for classification are independent of each other, which simplifies the computation and makes it computationally efficient.\n"
   ]
  },
  {
   "cell_type": "markdown",
   "metadata": {},
   "source": [
    "Data Setup and Exploration"
   ]
  },
  {
   "cell_type": "code",
   "execution_count": 5,
   "metadata": {},
   "outputs": [
    {
     "name": "stdout",
     "output_type": "stream",
     "text": [
      "Dataset: Complete Spam Assassin\n",
      "   Unnamed: 0                                               Body  Label\n",
      "0           0  \\nSave up to 70% on Life Insurance.\\nWhy Spend...      1\n",
      "1           1  1) Fight The Risk of Cancer!\\nhttp://www.adcli...      1\n",
      "2           2  1) Fight The Risk of Cancer!\\nhttp://www.adcli...      1\n",
      "3           3  ##############################################...      1\n",
      "4           4  I thought you might like these:\\n1) Slim Down ...      1\n",
      "<class 'pandas.core.frame.DataFrame'>\n",
      "RangeIndex: 6046 entries, 0 to 6045\n",
      "Data columns (total 3 columns):\n",
      " #   Column      Non-Null Count  Dtype \n",
      "---  ------      --------------  ----- \n",
      " 0   Unnamed: 0  6046 non-null   int64 \n",
      " 1   Body        6045 non-null   object\n",
      " 2   Label       6046 non-null   int64 \n",
      "dtypes: int64(2), object(1)\n",
      "memory usage: 141.8+ KB\n",
      "None\n",
      "\n",
      "\n",
      "Dataset: Enron Spam Subset\n",
      "   Unnamed: 0.1  Unnamed: 0  \\\n",
      "0          2469        2469   \n",
      "1          5063        5063   \n",
      "2         12564       12564   \n",
      "3          2796        2796   \n",
      "4          1468        1468   \n",
      "\n",
      "                                                Body  Label  \n",
      "0  Subject: stock promo mover : cwtd\\n * * * urge...      1  \n",
      "1  Subject: are you listed in major search engine...      1  \n",
      "2  Subject: important information thu , 30 jun 20...      1  \n",
      "3  Subject: = ? utf - 8 ? q ? bask your life with...      1  \n",
      "4  Subject: \" bidstogo \" is places to go , things...      1  \n",
      "<class 'pandas.core.frame.DataFrame'>\n",
      "RangeIndex: 10000 entries, 0 to 9999\n",
      "Data columns (total 4 columns):\n",
      " #   Column        Non-Null Count  Dtype \n",
      "---  ------        --------------  ----- \n",
      " 0   Unnamed: 0.1  10000 non-null  int64 \n",
      " 1   Unnamed: 0    10000 non-null  int64 \n",
      " 2   Body          10000 non-null  object\n",
      " 3   Label         10000 non-null  int64 \n",
      "dtypes: int64(3), object(1)\n",
      "memory usage: 312.6+ KB\n",
      "None\n",
      "\n",
      "\n",
      "Dataset: Ling Spam\n",
      "   Unnamed: 0                                               Body  Label\n",
      "0           0  Subject: great part-time or summer job !\\n \\n ...      1\n",
      "1           1  Subject: auto insurance rates too high ?\\n \\n ...      1\n",
      "2           2  Subject: do want the best and economical hunti...      1\n",
      "3           3  Subject: email 57 million people for $ 99\\n \\n...      1\n",
      "4           4  Subject: do n't miss these !\\n \\n attention ! ...      1\n",
      "<class 'pandas.core.frame.DataFrame'>\n",
      "RangeIndex: 2605 entries, 0 to 2604\n",
      "Data columns (total 3 columns):\n",
      " #   Column      Non-Null Count  Dtype \n",
      "---  ------      --------------  ----- \n",
      " 0   Unnamed: 0  2605 non-null   int64 \n",
      " 1   Body        2605 non-null   object\n",
      " 2   Label       2605 non-null   int64 \n",
      "dtypes: int64(2), object(1)\n",
      "memory usage: 61.2+ KB\n",
      "None\n",
      "\n",
      "\n"
     ]
    }
   ],
   "source": [
    "import pandas as pd\n",
    "\n",
    "# Loading the datasets\n",
    "complete_spam_assassin_df = pd.read_csv('./completeSpamAssassin.csv')\n",
    "enron_spam_subset_df = pd.read_csv('./enronSpamSubset.csv')\n",
    "ling_spam_df = pd.read_csv('./lingSpam.csv')\n",
    "\n",
    "# Displaying the first few rows of each dataset to understand their structure\n",
    "datasets = {\n",
    "    \"Complete Spam Assassin\": complete_spam_assassin_df,\n",
    "    \"Enron Spam Subset\": enron_spam_subset_df,\n",
    "    \"Ling Spam\": ling_spam_df\n",
    "}\n",
    "\n",
    "# Display structure and summary of each dataset\n",
    "for name, df in datasets.items():\n",
    "    print(f\"Dataset: {name}\")\n",
    "    print(df.head())\n",
    "    print(df.info())\n",
    "    print(\"\\n\")"
   ]
  },
  {
   "cell_type": "markdown",
   "metadata": {},
   "source": [
    "Data Cleanup"
   ]
  },
  {
   "cell_type": "code",
   "execution_count": 6,
   "metadata": {},
   "outputs": [],
   "source": [
    "# Combining the datasets\n",
    "combined_df = pd.concat([complete_spam_assassin_df, enron_spam_subset_df, ling_spam_df], ignore_index=True)\n",
    "\n",
    "# Dropping unnecessary columns (Unnamed: 0, etc.)\n",
    "combined_df = combined_df.drop(combined_df.filter(regex=\"Unnamed\"), axis=1)\n",
    "\n",
    "# Checking for missing values\n",
    "missing_values = combined_df.isnull().sum()\n",
    "\n",
    "# Checking the balance of the dataset\n",
    "spam_nonspam_count = combined_df['Label'].value_counts()\n",
    "\n",
    "# Displaying the first few rows of the combined dataset, missing values, and spam/non-spam count\n",
    "combined_df.head(), missing_values, spam_nonspam_count\n",
    "\n",
    "\n",
    "from sklearn.model_selection import train_test_split\n",
    "\n",
    "# Handling missing values by dropping the row with the missing 'Body'\n",
    "combined_df_cleaned = combined_df.dropna()\n",
    "\n"
   ]
  },
  {
   "cell_type": "markdown",
   "metadata": {},
   "source": [
    "Splitting the dataset"
   ]
  },
  {
   "cell_type": "code",
   "execution_count": 7,
   "metadata": {},
   "outputs": [],
   "source": [
    "# Splitting the dataset into training and testing sets (80% train, 20% test)\n",
    "train_df, test_df = train_test_split(combined_df_cleaned, test_size=0.2, random_state=42)\n",
    "\n",
    "# Displaying the shape of the training and testing datasets\n",
    "train_df.shape, test_df.shape\n",
    "\n",
    "from sklearn.feature_extraction.text import TfidfVectorizer\n",
    "from sklearn.naive_bayes import MultinomialNB\n",
    "from sklearn.pipeline import make_pipeline\n",
    "from sklearn.metrics import classification_report, confusion_matrix\n",
    "\n",
    "# Text preprocessing and vectorization\n",
    "# Using TF-IDF Vectorizer to convert text data to numerical format\n",
    "vectorizer = TfidfVectorizer(stop_words='english')"
   ]
  },
  {
   "cell_type": "markdown",
   "metadata": {},
   "source": [
    "Building the Bayesian model, Making Predictions, Output"
   ]
  },
  {
   "cell_type": "code",
   "execution_count": null,
   "metadata": {},
   "outputs": [],
   "source": [
    "# Building a pipeline with TF-IDF Vectorizer and Multinomial Naive Bayes Classifier\n",
    "model = make_pipeline(vectorizer, MultinomialNB())"
   ]
  },
  {
   "cell_type": "markdown",
   "metadata": {},
   "source": [
    "Improving the Model"
   ]
  },
  {
   "cell_type": "code",
   "execution_count": null,
   "metadata": {},
   "outputs": [],
   "source": [
    "# Training the model with the training set\n",
    "model.fit(train_df['Body'], train_df['Label'])"
   ]
  },
  {
   "cell_type": "markdown",
   "metadata": {},
   "source": [
    "Making Predictions"
   ]
  },
  {
   "cell_type": "code",
   "execution_count": 8,
   "metadata": {},
   "outputs": [
    {
     "name": "stdout",
     "output_type": "stream",
     "text": [
      "              precision    recall  f1-score   support\n",
      "\n",
      "           0       0.89      1.00      0.94      2244\n",
      "           1       1.00      0.82      0.90      1486\n",
      "\n",
      "    accuracy                           0.93      3730\n",
      "   macro avg       0.95      0.91      0.92      3730\n",
      "weighted avg       0.94      0.93      0.93      3730\n",
      "\n"
     ]
    },
    {
     "data": {
      "image/png": "[encoded data removed]",
      "text/plain": [
       "<Figure size 1000x700 with 2 Axes>"
      ]
     },
     "metadata": {},
     "output_type": "display_data"
    }
   ],
   "source": [
    "# Evaluating the model using the testing set\n",
    "predicted_labels = model.predict(test_df['Body'])\n",
    "report = classification_report(test_df['Label'], predicted_labels)\n",
    "conf_matrix = confusion_matrix(test_df['Label'], predicted_labels)\n",
    "\n",
    "print(report)\n",
    "\n",
    "import matplotlib.pyplot as plt\n",
    "import seaborn as sns\n",
    "\n",
    "class_names = ['Non-Spam', 'Spam']  # Class names for your labels\n",
    "\n",
    "# Plotting the confusion matrix\n",
    "plt.figure(figsize=(10, 7))\n",
    "sns.heatmap(conf_matrix, annot=True, fmt='g', cmap='Blues', xticklabels=class_names, yticklabels=class_names)\n",
    "plt.xlabel('Predicted Label')\n",
    "plt.ylabel('True Label')\n",
    "plt.title('Confusion Matrix')\n",
    "plt.show()\n",
    "\n"
   ]
  },
  {
   "cell_type": "markdown",
   "metadata": {},
   "source": [
    "### Analysis of Findings\n",
    "\n",
    "The results show the performance metrics of the model on a binary classification task, distinguishing between spam (class 1) and non-spam (class 0) emails. Let's break down the analysis of these findings:\n",
    "\n",
    "1. **Precision:** Precision measures the accuracy of positive predictions made by the model. For class 1 (spam), the precision is 1.00, indicating that when the model predicts an email as spam, it is correct 100% of the time. For class 0 (non-spam), the precision is 0.89, indicating that when the model predicts an email as non-spam, it is correct 89% of the time.\n",
    "\n",
    "2. **Recall:** Recall, also known as sensitivity or true positive rate, measures the ability of the model to correctly identify all relevant instances of a class. For class 1 (spam), the recall is 0.82, meaning that the model correctly identified 82% of the actual spam emails. For class 0 (non-spam), the recall is 1.00, indicating that the model correctly identified all non-spam emails.\n",
    "\n",
    "3. **F1-Score:** The F1-score is the harmonic mean of precision and recall and provides a balance between the two metrics. For class 1 (spam), the F1-score is 0.90, which is a good balance between precision and recall. For class 0 (non-spam), the F1-score is 0.94, indicating a high balance between precision and recall.\n",
    "\n",
    "4. **Accuracy:** Overall accuracy is the ratio of correctly predicted instances (both true positives and true negatives) to the total number of instances. The model achieved an accuracy of 0.93, which means it correctly classified 93% of all emails in the dataset.\n",
    "\n",
    "5. **False Positives and False Negatives:** The analysis correctly identifies that there were 4 false positives and 265 false negatives. False positives are instances where the model incorrectly classified non-spam emails as spam, and false negatives are instances where it incorrectly classified spam emails as non-spam.\n",
    "\n",
    "- **High Precision for Class 1:** A precision of 1.00 for spam (class 1) indicates that when the model predicts an email as spam, it's almost always correct. This is desirable because it minimizes the chances of legitimate emails being mistakenly labeled as spam.\n",
    "\n",
    "- **High Recall for Class 0:** A recall of 1.00 for non-spam (class 0) indicates that the model correctly identifies all non-spam emails. This is also important because it ensures that non-spam emails are not mistakenly classified as spam.\n",
    "\n",
    "- **Balanced F1-Scores:** The F1-scores for both classes (0.90 for spam and 0.94 for non-spam) are relatively balanced, which is a good sign. It means the model maintains a reasonable trade-off between precision and recall for both classes.\n",
    "\n",
    "- **Accuracy:** An overall accuracy of 93% is quite good, indicating that the model performs well in classifying both spam and non-spam emails.\n",
    "\n",
    "- **False Positives and False Negatives:** The small number of false positives (4) and false negatives (265) suggests that the model generally performs well but may still have room for improvement in correctly identifying some spam emails.\n",
    "\n",
    "In summary, the model appears to be effective at classifying emails as spam or non-spam with a high degree of accuracy and reasonable precision and recall. However, you may want to further investigate the false positives and false negatives to fine-tune the model and reduce these errors if necessary, depending on the specific requirements of your application."
   ]
  },
  {
   "cell_type": "markdown",
   "metadata": {},
   "source": [
    "## References\n",
    "\n",
    "https://www.kaggle.com/datasets/nitishabharathi/email-spam-dataset\n",
    "\n",
    "ChatGPT\n",
    "\n",
    "CS courses Padlet (https://padlet.com/isac_artzi/cs-courses-97zpvui7fpar)"
   ]
  }
 ],
 "metadata": {
  "kernelspec": {
   "display_name": "Python 3",
   "language": "python",
   "name": "python3"
  },
  "language_info": {
   "codemirror_mode": {
    "name": "ipython",
    "version": 3
   },
   "file_extension": ".py",
   "mimetype": "text/x-python",
   "name": "python",
   "nbconvert_exporter": "python",
   "pygments_lexer": "ipython3",
   "version": "3.11.5"
  }
 },
 "nbformat": 4,
 "nbformat_minor": 2
}
