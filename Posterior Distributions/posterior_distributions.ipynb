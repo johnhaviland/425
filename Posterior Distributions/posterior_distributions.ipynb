{
 "cells": [
  {
   "cell_type": "markdown",
   "metadata": {},
   "source": [
    "# Posterior Distributions\n",
    "## Nathan Dilla & John Ian Haviland\n",
    "### April 7, 2024\n",
    "\n",
    "Nathan's video: https://www.loom.com/share/86f82f41f9d6427f9d78468b151445f6\n",
    "\n",
    "John's Video: https://www.loom.com/share/3f46d160869a423d9a2d08e0b753e366?sid=fb8e6bb6-4032-4c76-a722-83d556968246"
   ]
  },
  {
   "cell_type": "markdown",
   "metadata": {},
   "source": [
    "#### Background\n",
    "\n",
    "Universities are vibrant ecosystems with diverse spaces catering to the academic, social, and recreational needs of students. The flow of student traffic across these spaces provides valuable insights into campus life dynamics, influencing everything from facility management to event planning and safety protocols. This activity focuses on a critical aspect of campus analytics: understanding how students interact with different campus locations and what these interactions reveal about their preferences and behaviors.\n",
    "\n",
    "We have simulated data on student movements between five pivotal locations on campus: the Student Union, Arena, Thunderground, Lopes Way, and the Dorms. Each of these sites plays a unique role in campus life, from serving as social hubs to hosting special events and offering leisure activities. By examining the flow of students between these areas, we aim to uncover patterns that can inform better campus resource allocation, enhance student experiences, and ensure that facilities meet the community's evolving needs.\n",
    "\n",
    "We will apply Markov Chain Monte Carlo (MCMC) methods to estimate the posterior distributions of student preferences for each campus location. By analyzing these distributions, we can gain deeper insights into the probability of students favoring certain locations over others, given the observed movements. This approach offers a powerful framework for decision-making, enabling the university to tailor its services and facilities to better match student needs and preferences."
   ]
  },
  {
   "cell_type": "markdown",
   "metadata": {},
   "source": [
    "#### Import Libraries"
   ]
  },
  {
   "cell_type": "code",
   "execution_count": 17,
   "metadata": {},
   "outputs": [],
   "source": [
    "import pandas as pd\n",
    "import numpy as np\n",
    "import scipy.stats as stats\n",
    "import matplotlib.pyplot as plt\n",
    "import networkx as nx"
   ]
  },
  {
   "cell_type": "markdown",
   "metadata": {},
   "source": [
    "#### Initial Table Creation"
   ]
  },
  {
   "cell_type": "code",
   "execution_count": 18,
   "metadata": {},
   "outputs": [
    {
     "data": {
      "text/html": [
       "<div>\n",
       "<style scoped>\n",
       "    .dataframe tbody tr th:only-of-type {\n",
       "        vertical-align: middle;\n",
       "    }\n",
       "\n",
       "    .dataframe tbody tr th {\n",
       "        vertical-align: top;\n",
       "    }\n",
       "\n",
       "    .dataframe thead th {\n",
       "        text-align: right;\n",
       "    }\n",
       "</style>\n",
       "<table border=\"1\" class=\"dataframe\">\n",
       "  <thead>\n",
       "    <tr style=\"text-align: right;\">\n",
       "      <th></th>\n",
       "      <th>Student Union</th>\n",
       "      <th>Arena</th>\n",
       "      <th>Thunderground</th>\n",
       "      <th>Lopes Way</th>\n",
       "      <th>Dorms</th>\n",
       "      <th>Total</th>\n",
       "    </tr>\n",
       "  </thead>\n",
       "  <tbody>\n",
       "    <tr>\n",
       "      <th>Student Union</th>\n",
       "      <td>1</td>\n",
       "      <td>3</td>\n",
       "      <td>5</td>\n",
       "      <td>3</td>\n",
       "      <td>3</td>\n",
       "      <td>15</td>\n",
       "    </tr>\n",
       "    <tr>\n",
       "      <th>Arena</th>\n",
       "      <td>7</td>\n",
       "      <td>1</td>\n",
       "      <td>4</td>\n",
       "      <td>6</td>\n",
       "      <td>3</td>\n",
       "      <td>21</td>\n",
       "    </tr>\n",
       "    <tr>\n",
       "      <th>Thunderground</th>\n",
       "      <td>8</td>\n",
       "      <td>2</td>\n",
       "      <td>2</td>\n",
       "      <td>5</td>\n",
       "      <td>4</td>\n",
       "      <td>21</td>\n",
       "    </tr>\n",
       "    <tr>\n",
       "      <th>Lopes Way</th>\n",
       "      <td>5</td>\n",
       "      <td>4</td>\n",
       "      <td>5</td>\n",
       "      <td>3</td>\n",
       "      <td>1</td>\n",
       "      <td>18</td>\n",
       "    </tr>\n",
       "    <tr>\n",
       "      <th>Dorms</th>\n",
       "      <td>2</td>\n",
       "      <td>4</td>\n",
       "      <td>1</td>\n",
       "      <td>5</td>\n",
       "      <td>1</td>\n",
       "      <td>13</td>\n",
       "    </tr>\n",
       "  </tbody>\n",
       "</table>\n",
       "</div>"
      ],
      "text/plain": [
       "               Student Union  Arena  Thunderground  Lopes Way  Dorms  Total\n",
       "Student Union              1      3              5          3      3     15\n",
       "Arena                      7      1              4          6      3     21\n",
       "Thunderground              8      2              2          5      4     21\n",
       "Lopes Way                  5      4              5          3      1     18\n",
       "Dorms                      2      4              1          5      1     13"
      ]
     },
     "execution_count": 18,
     "metadata": {},
     "output_type": "execute_result"
    }
   ],
   "source": [
    "activity_matrix = np.array([\n",
    "    [1, 3, 5, 3, 3],  # Student Union\n",
    "    [7, 1, 4, 6, 3],  # Arena\n",
    "    [8, 2, 2, 5, 4],  # Thunderground\n",
    "    [5, 4, 5, 3, 1],  # Lopes Way\n",
    "    [2, 4, 1, 5, 1]   # Dorms\n",
    "])\n",
    "\n",
    "states = ['Student Union', 'Arena', 'Thunderground', 'Lopes Way', 'Dorms']\n",
    "\n",
    "activity_df = pd.DataFrame(activity_matrix, index=states, columns=states)\n",
    "\n",
    "# Add the total visits per current location\n",
    "activity_df['Total'] = activity_df.sum(axis=1)\n",
    "\n",
    "# Display df\n",
    "activity_df\n"
   ]
  },
  {
   "cell_type": "markdown",
   "metadata": {},
   "source": [
    "#### Calculating Conditional Probabilities & Transition Matrix"
   ]
  },
  {
   "cell_type": "code",
   "execution_count": 19,
   "metadata": {},
   "outputs": [
    {
     "data": {
      "text/plain": [
       "(               Student Union     Arena  Thunderground  Lopes Way     Dorms  \\\n",
       " Student Union       0.066667  0.200000       0.333333   0.200000  0.200000   \n",
       " Arena               0.333333  0.047619       0.190476   0.285714  0.142857   \n",
       " Thunderground       0.380952  0.095238       0.095238   0.238095  0.190476   \n",
       " Lopes Way           0.277778  0.222222       0.277778   0.166667  0.055556   \n",
       " Dorms               0.153846  0.307692       0.076923   0.384615  0.076923   \n",
       " \n",
       "                Total  \n",
       " Student Union    1.0  \n",
       " Arena            1.0  \n",
       " Thunderground    1.0  \n",
       " Lopes Way        1.0  \n",
       " Dorms            1.0  ,\n",
       " array([[0.06666667, 0.2       , 0.33333333, 0.2       , 0.2       ],\n",
       "        [0.33333333, 0.04761905, 0.19047619, 0.28571429, 0.14285714],\n",
       "        [0.38095238, 0.0952381 , 0.0952381 , 0.23809524, 0.19047619],\n",
       "        [0.27777778, 0.22222222, 0.27777778, 0.16666667, 0.05555556],\n",
       "        [0.15384615, 0.30769231, 0.07692308, 0.38461538, 0.07692308]]))"
      ]
     },
     "execution_count": 19,
     "metadata": {},
     "output_type": "execute_result"
    }
   ],
   "source": [
    "# Calculate conditional probabilities\n",
    "conditional_prob_df = activity_df.div(activity_df['Total'], axis=0)\n",
    "\n",
    "# Drop 'Total' column\n",
    "conditional_prob_df = conditional_prob_df.drop('Total', axis=1)\n",
    "\n",
    "# Adjust table's conditional probabilities to sum up to 1\n",
    "conditional_prob_df['Total'] = conditional_prob_df.sum(axis=1)\n",
    "\n",
    "# Convert the conditional probabilities df into a transition matrix\n",
    "transition_matrix = conditional_prob_df.drop('Total', axis=1).values\n",
    "\n",
    "# Display conditional probability table and transition matrix\n",
    "conditional_prob_df, transition_matrix"
   ]
  },
  {
   "cell_type": "markdown",
   "metadata": {},
   "source": [
    "#### Plotting Markov Chain"
   ]
  },
  {
   "cell_type": "code",
   "execution_count": 20,
   "metadata": {},
   "outputs": [
    {
     "data": {
      "image/png": "[encoded data removed]",
      "text/plain": [
       "<Figure size 640x480 with 1 Axes>"
      ]
     },
     "metadata": {},
     "output_type": "display_data"
    }
   ],
   "source": [
    "# Function to plot Markov chain\n",
    "def plot_markov_chain(trans_mat, states):\n",
    "\n",
    "    # Graph from transition matrix\n",
    "    G = nx.DiGraph()\n",
    "\n",
    "    # Add nodes\n",
    "    for state in states:\n",
    "        G.add_node(state)\n",
    "\n",
    "    # Add edges w/ probabilities as labels\n",
    "    for i, origin_state in enumerate(states):\n",
    "        for j, destination_state in enumerate(states):\n",
    "            prob = trans_mat[i, j]\n",
    "            if prob > 0:\n",
    "                G.add_edge(origin_state, destination_state, weight=prob, label=\"{:.02f}\".format(prob))\n",
    "\n",
    "    # Draw graph w/ circular layout\n",
    "    pos = nx.circular_layout(G)\n",
    "    nx.draw(G, pos, with_labels=True, node_size=3000, node_color='lightblue', font_size=15)\n",
    "\n",
    "    # Draw edge labels\n",
    "    edge_labels = nx.get_edge_attributes(G, 'label')\n",
    "    nx.draw_networkx_edge_labels(G, pos, edge_labels=edge_labels, font_color='red')\n",
    "\n",
    "    plt.title('Markov Chain Graph')\n",
    "    plt.show()\n",
    "\n",
    "# Plot MC graph\n",
    "plot_markov_chain(transition_matrix, states)"
   ]
  },
  {
   "cell_type": "markdown",
   "metadata": {},
   "source": [
    "#### Calculating Steady-State Probabilities & Transition Probability"
   ]
  },
  {
   "cell_type": "code",
   "execution_count": 21,
   "metadata": {},
   "outputs": [
    {
     "name": "stdout",
     "output_type": "stream",
     "text": [
      "Number of iterations to reach steady state: 9\n",
      "P(Student Union -> Lopes Way -> Dorms) = 0.0111\n"
     ]
    }
   ],
   "source": [
    "# Function that calculates steady-state probabilities\n",
    "def calculate_steady_state(trans_mat, threshold=1e-6, max_iter=1000):\n",
    "    num_states = trans_mat.shape[0]\n",
    "    \n",
    "    # Uniform distribution to start\n",
    "    prob_vector = np.full(num_states, 1 / num_states)\n",
    "    iterations = 0\n",
    "\n",
    "    # Perform power method iterations until convergence or max iterations reached\n",
    "    for iterations in range(max_iter):\n",
    "        new_prob_vector = prob_vector.dot(trans_mat)\n",
    "        \n",
    "        # If converged, break\n",
    "        if np.allclose(new_prob_vector, prob_vector, atol=threshold):\n",
    "            break\n",
    "        prob_vector = new_prob_vector\n",
    "\n",
    "    return new_prob_vector, iterations\n",
    "\n",
    "# Calculate steady-state probabilities\n",
    "steady_state_probs, iterations = calculate_steady_state(transition_matrix)\n",
    "\n",
    "# Probability of going to the Union, then going to Lopes Way, then going to the Dorms\n",
    "# P(Student Union -> Lopes Way -> Dorms) = P(Student Union -> Lopes Way) * P(Lopes Way -> Dorms)   \n",
    "prob_union_lopesway_dorms = transition_matrix[states.index('Student Union'), states.index('Lopes Way')] * \\\n",
    "                               transition_matrix[states.index('Lopes Way'), states.index('Dorms')]\n",
    "                               \n",
    "print(f\"Number of iterations to reach steady state: {iterations}\")\n",
    "\n",
    "print(f\"P(Student Union -> Lopes Way -> Dorms) = {prob_union_lopesway_dorms:.4f}\")"
   ]
  },
  {
   "cell_type": "markdown",
   "metadata": {},
   "source": [
    "#### Calculating Fifth Step Probabilities"
   ]
  },
  {
   "cell_type": "code",
   "execution_count": 22,
   "metadata": {},
   "outputs": [
    {
     "data": {
      "text/plain": [
       "array([0.24126087, 0.17179216, 0.21026554, 0.24000184, 0.13667958])"
      ]
     },
     "execution_count": 22,
     "metadata": {},
     "output_type": "execute_result"
    }
   ],
   "source": [
    "# Uniform distribution to start\n",
    "spv = np.array([0.2, 0.2, 0.2, 0.2, 0.2])\n",
    "\n",
    "# Calculate fifth step probabilities\n",
    "fifth_step_prob = spv.dot(np.linalg.matrix_power(transition_matrix, 5))\n",
    "\n",
    "fifth_step_prob"
   ]
  },
  {
   "cell_type": "markdown",
   "metadata": {},
   "source": [
    "#### Formulating a Question: \n",
    "\n",
    "##### \"What is the probabilistic distribution of student engagement or presence across various campus locations over time, given certain initial assumptions or observed data, and how do these distributions vary with changes in specific location attributes or external conditions?"
   ]
  },
  {
   "cell_type": "markdown",
   "metadata": {},
   "source": [
    "#### Simulating Markov Chain Monte Carlo (MCMC)"
   ]
  },
  {
   "cell_type": "code",
   "execution_count": 24,
   "metadata": {},
   "outputs": [
    {
     "name": "stdout",
     "output_type": "stream",
     "text": [
      "The average alpha values are:\n",
      "Student Union: -0.4019\n",
      "Arena: -2.4008\n",
      "Thunderground: -4.7265\n",
      "Lopes Way: 0.3096\n",
      "Dorms: 5.6077\n",
      "\n",
      "The average beta values are:\n",
      "Student Union: 3.1478\n",
      "Arena: -5.0239\n",
      "Thunderground: 1.9709\n",
      "Lopes Way: 2.4342\n",
      "Dorms: 9.8235\n",
      "\n",
      "The average state probabilities are:\n",
      "Student Union: 0.0200\n",
      "Arena: 0.0033\n",
      "Thunderground: 0.0324\n",
      "Lopes Way: 0.0293\n",
      "Dorms: 0.9150\n"
     ]
    }
   ],
   "source": [
    "num_iterations = 10000\n",
    "\n",
    "# Initial alpha and beta parameters (arbitrary)\n",
    "alpha = np.zeros(5)\n",
    "beta = np.ones(5)\n",
    "\n",
    "# Alpha and beta chains to store the simulation results\n",
    "alpha_chain = np.zeros((num_iterations, 5))\n",
    "beta_chain = np.zeros((num_iterations, 5))\n",
    "\n",
    "# Probabilities for each state\n",
    "state_prob_chain = np.zeros((num_iterations, 5))\n",
    "\n",
    "# Function that defines softmax function\n",
    "def softmax(x):\n",
    "    e_x = np.exp(x - np.max(x))\n",
    "    return e_x / e_x.sum()\n",
    "\n",
    "# Function that defines acceptance function w/ squared error\n",
    "def acceptance_function(observed_probs, proposed_probs):\n",
    "   \n",
    "    return np.exp(-np.sum((observed_probs - proposed_probs)**2))\n",
    "\n",
    "# Observed probabilities\n",
    "observed_probs = steady_state_probs\n",
    "\n",
    "# Run Metropolis-Hastings algorithm\n",
    "for i in range(num_iterations):\n",
    "    \n",
    "    # Propose new values for alpha and beta from a normal distribution\n",
    "    proposed_alpha = alpha + np.random.normal(0, 0.1, 5)\n",
    "    proposed_beta = beta + np.random.normal(0, 0.1, 5)\n",
    "    \n",
    "    # Calculate new proposed probabilities using softmax function\n",
    "    proposed_probs = softmax(proposed_alpha)\n",
    "    \n",
    "    # Calculate acceptance probability\n",
    "    acceptance_prob = acceptance_function(observed_probs, proposed_probs)\n",
    "    \n",
    "    # Accept or reject the proposed values\n",
    "    if acceptance_prob > np.random.rand():\n",
    "        alpha = proposed_alpha\n",
    "        beta = proposed_beta\n",
    "    \n",
    "    # Store results of each iteration\n",
    "    alpha_chain[i] = alpha\n",
    "    beta_chain[i] = beta\n",
    "    state_prob_chain[i] = proposed_probs\n",
    "\n",
    "# Calculate average alpha and beta values over the chain\n",
    "avg_alpha = np.mean(alpha_chain, axis=0)\n",
    "avg_beta = np.mean(beta_chain, axis=0)\n",
    "avg_state_probs = np.mean(state_prob_chain, axis=0)\n",
    "\n",
    "# Print MCMC simulation values\n",
    "print(f\"The average alpha values are:\\n\"\n",
    "      f\"Student Union: {avg_alpha[0]:.4f}\\n\"\n",
    "      f\"Arena: {avg_alpha[1]:.4f}\\n\"\n",
    "      f\"Thunderground: {avg_alpha[2]:.4f}\\n\"\n",
    "      f\"Lopes Way: {avg_alpha[3]:.4f}\\n\"\n",
    "      f\"Dorms: {avg_alpha[4]:.4f}\\n\")\n",
    "\n",
    "print(f\"The average beta values are:\\n\"\n",
    "      f\"Student Union: {avg_beta[0]:.4f}\\n\"\n",
    "      f\"Arena: {avg_beta[1]:.4f}\\n\"\n",
    "      f\"Thunderground: {avg_beta[2]:.4f}\\n\"\n",
    "      f\"Lopes Way: {avg_beta[3]:.4f}\\n\"\n",
    "      f\"Dorms: {avg_beta[4]:.4f}\\n\")\n",
    "\n",
    "print(f\"The average state probabilities are:\\n\"\n",
    "      f\"Student Union: {avg_state_probs[0]:.4f}\\n\"\n",
    "      f\"Arena: {avg_state_probs[1]:.4f}\\n\"\n",
    "      f\"Thunderground: {avg_state_probs[2]:.4f}\\n\"\n",
    "      f\"Lopes Way: {avg_state_probs[3]:.4f}\\n\"\n",
    "      f\"Dorms: {avg_state_probs[4]:.4f}\")\n"
   ]
  },
  {
   "cell_type": "markdown",
   "metadata": {},
   "source": [
    "#### Interpreting the results:\n",
    "\n",
    "Alpha Values: Represent the inherent attractiveness or aversiveness of each location. Negative values (Student Union, Arena, Thunderground) suggest factors that might deter students, whereas positive values (Lopes Way, Dorms) indicate attractions.\n",
    "\n",
    "Beta Values: These were intended to modify the effect of the alpha values. The simulation process doesn't explicitly use them in calculating the state probabilities and were adjusted alongside alpha values without a clear role in this specific implementation. \n",
    "\n",
    "State Probabilities: Show the likelihood of students being in each location. The Dorms have the highest probability (91.5%), indicating that, based on the model and observed data, students are most likely to be found there. The other locations have significantly lower probabilities, with the Arena being the least likely (0.33%)."
   ]
  }
 ],
 "metadata": {
  "kernelspec": {
   "display_name": ".venv",
   "language": "python",
   "name": "python3"
  },
  "language_info": {
   "codemirror_mode": {
    "name": "ipython",
    "version": 3
   },
   "file_extension": ".py",
   "mimetype": "text/x-python",
   "name": "python",
   "nbconvert_exporter": "python",
   "pygments_lexer": "ipython3",
   "version": "3.10.14"
  }
 },
 "nbformat": 4,
 "nbformat_minor": 2
}
